{
 "cells": [
  {
   "cell_type": "code",
   "execution_count": 1,
   "metadata": {},
   "outputs": [],
   "source": [
    "## Import libraries\n",
    "import re\n",
    "from string import punctuation\n",
    "import matplotlib.pyplot as plt"
   ]
  },
  {
   "cell_type": "markdown",
   "metadata": {},
   "source": [
    "### Reading first article: Life of Pi"
   ]
  },
  {
   "cell_type": "code",
   "execution_count": 2,
   "metadata": {},
   "outputs": [],
   "source": [
    "## Reading the text of book\n",
    "with open('LifeOfPi.txt', 'r') as myfile:\n",
    "    data=myfile.read().replace('\\n', ' ')"
   ]
  },
  {
   "cell_type": "code",
   "execution_count": 3,
   "metadata": {},
   "outputs": [],
   "source": [
    "## Splitting the text on \"., ! and ?\" to get sentences\n",
    "sentences = re.split('(?<=[.!?]) +', data)"
   ]
  },
  {
   "cell_type": "code",
   "execution_count": 4,
   "metadata": {},
   "outputs": [],
   "source": [
    "## Initializing\n",
    "sent_length = []  ## Stores number of words in a sentence\n",
    "word_length = []  ## Stores number of letters in a word\n",
    "\n",
    "for line in sentences:\n",
    "    words=line.split()  ## Splitting sentences on space to get words\n",
    "    sent_length += [len(words)]  ## Gives sentence length & stores in vector\n",
    "    for w in words:  ## Loop to count letters in each word\n",
    "        len_word = len(w)  ## Gives word length \n",
    "        count_pun = 0  ## Initialize punctuation count\n",
    "        for c in w: ## To count punctuations in w\n",
    "            if c in punctuation:  \n",
    "                count_pun += 1\n",
    "        len_word -= count_pun  ## Subtracting puntuation count from words\n",
    "        word_length += [len_word]  ## Stores length of words in a vector"
   ]
  },
  {
   "cell_type": "code",
   "execution_count": 5,
   "metadata": {},
   "outputs": [
    {
     "name": "stdout",
     "output_type": "stream",
     "text": [
      "[8, 21, 12, 6, 7, 64, 16, 38, 16, 23, 10, 2, 11, 10, 12, 6, 19, 17, 5, 24, 8, 11, 19, 33, 17, 7, 13, 6, 15, 20, 9, 41, 7, 17, 34, 7, 16, 19, 3, 4, 8, 6, 15, 5, 26, 3, 6, 11, 6, 6, 10, 5]\n",
      "[1, 7, 2, 10, 3, 3, 5, 4, 1, 3, 3, 3, 1, 4, 2, 5, 2, 1, 4, 2, 3, 2, 1, 6, 2, 5, 2, 5, 4, 7, 4, 7, 11, 3, 2, 8, 7, 2, 1, 6, 8, 7, 6, 3, 5, 2, 5, 2, 4, 2, 3, 8, 7, 2, 10, 4, 4, 1, 5, 6, 4, 7, 2, 2, 4, 3, 2, 3, 4, 5, 4, 12, 4, 9, 7, 6, 5, 3, 6, 2, 4, 4, 1, 9, 4, 2, 3, 3, 1, 5, 2, 1, 8, 2, 1, 9, 6, 2, 1, 5, 2, 3, 5, 4, 7, 3, 1, 5, 4, 5, 9, 5, 2, 1, 8, 6, 8, 5, 3, 5, 2, 2, 5, 2, 9, 2, 4, 2, 1, 4, 4, 6, 2, 11, 3, 1, 3, 6, 2, 6, 3, 3, 3, 1, 4, 4, 1, 8, 6, 5, 2, 1, 8, 9, 4, 4, 3, 1, 9, 1, 5, 4, 2, 3, 2, 5, 5, 4, 1, 3, 4, 6, 3, 4, 6, 4, 7, 6, 3, 7, 8, 14, 8, 2, 3, 7, 2, 10, 4, 3, 2, 4, 2, 3, 2, 4, 2, 4, 2, 4, 1, 5, 2, 3, 6, 2, 3, 4, 2, 3, 2, 3, 5, 5, 1, 4, 3, 4, 2, 4, 5, 1, 3, 3, 2, 1, 6, 1, 6, 2, 3, 4, 4, 6, 2, 3, 4, 2, 6, 3, 3, 4, 4, 2, 3, 6, 10, 6, 6, 3, 4, 5, 10, 2, 3, 7, 3, 8, 5, 2, 3, 5, 3, 2, 3, 5, 3, 4, 3, 10, 3, 7, 4, 2, 4, 2, 7, 7, 5, 10, 6, 8, 3, 7, 4, 3, 5, 3, 3, 8, 4, 4, 4, 2, 3, 5, 4, 6, 2, 2, 3, 4, 2, 2, 4, 4, 1, 5, 6, 8, 8, 3, 1, 3, 2, 9, 10, 2, 7, 6, 4, 2, 5, 4, 5, 8, 5, 4, 1, 5, 6, 2, 4, 3, 4, 4, 5, 7, 3, 3, 2, 9, 5, 2, 7, 6, 1, 7, 2, 3, 4, 4, 5, 2, 4, 4, 7, 4, 1, 3, 5, 9, 5, 2, 6, 3, 4, 3, 4, 3, 6, 4, 2, 4, 1, 7, 5, 2, 8, 4, 2, 2, 3, 4, 6, 4, 5, 3, 3, 4, 1, 7, 2, 2, 3, 5, 3, 6, 1, 4, 5, 4, 3, 6, 3, 3, 7, 2, 1, 10, 9, 3, 6, 3, 5, 4, 3, 1, 3, 7, 1, 3, 5, 1, 3, 7, 3, 3, 3, 3, 10, 2, 12, 4, 4, 7, 6, 2, 1, 8, 6, 4, 6, 2, 3, 5, 4, 2, 11, 3, 3, 4, 9, 3, 2, 6, 2, 6, 3, 2, 2, 6, 4, 4, 3, 9, 9, 5, 2, 7, 3, 6, 2, 1, 7, 5, 2, 3, 6, 2, 4, 2, 2, 6, 3, 1, 4, 5, 5, 1, 5, 8, 4, 4, 4, 6, 5, 3, 5, 7, 2, 3, 5, 4, 10, 8, 2, 3, 4, 2, 3, 6, 4, 9, 4, 2, 5, 3, 7, 2, 1, 5, 5, 4, 6, 6, 5, 2, 10, 1, 5, 3, 7, 3, 2, 1, 6, 5, 3, 8, 2, 7, 6, 3, 10, 4, 9, 3, 5, 5, 3, 8, 3, 2, 2, 4, 6, 7, 3, 1, 6, 6, 5, 4, 1, 10, 4, 1, 3, 2, 1, 7, 10, 8, 3, 4, 4, 1, 8, 3, 6, 9, 4, 8, 4, 6, 4, 1, 9, 10, 11, 4, 7, 5, 4, 2, 2, 10, 1, 3, 2, 6, 3, 6, 2, 3, 4, 4, 4, 8, 5, 3, 5, 2, 6, 1, 6, 5, 5, 5, 3, 5, 5, 2, 6, 5, 2, 3, 7, 5, 3, 5, 6, 3, 1, 3, 2, 2, 3, 4, 2, 5, 5, 1, 3, 2, 4, 1, 4, 2, 2, 3, 6, 2, 3, 4, 2, 3, 4, 2, 3, 9, 2, 3, 1, 4, 5, 1, 4, 1, 3, 8, 3, 4, 2, 1, 7, 3, 1, 3, 5, 2, 4, 4, 3, 3, 4, 1, 7, 8, 2, 6, 4, 1, 3, 4, 1, 9, 7, 2, 4, 4, 1, 3, 3, 4, 4, 3, 4, 4, 1, 3, 2, 1, 3, 3, 3, 7, 6, 3, 5, 3, 7, 7, 6, 2, 3, 4, 6, 4, 3, 4, 2, 3, 5, 2, 3, 7, 2, 2]\n"
     ]
    }
   ],
   "source": [
    "print(sent_length)\n",
    "print(word_length)"
   ]
  },
  {
   "cell_type": "code",
   "execution_count": 6,
   "metadata": {},
   "outputs": [
    {
     "data": {
      "image/png": "[encoded data removed]",
      "text/plain": [
       "<Figure size 432x288 with 1 Axes>"
      ]
     },
     "metadata": {},
     "output_type": "display_data"
    }
   ],
   "source": [
    "plt.hist(sent_length, bins=12)\n",
    "plt.show()"
   ]
  },
  {
   "cell_type": "code",
   "execution_count": 7,
   "metadata": {
    "scrolled": true
   },
   "outputs": [
    {
     "data": {
      "image/png": "[encoded data removed]",
      "text/plain": [
       "<Figure size 432x288 with 1 Axes>"
      ]
     },
     "metadata": {},
     "output_type": "display_data"
    }
   ],
   "source": [
    "plt.hist(word_length, bins=12)\n",
    "plt.show()"
   ]
  },
  {
   "cell_type": "markdown",
   "metadata": {},
   "source": [
    "### Reading second article: SpaceX"
   ]
  },
  {
   "cell_type": "code",
   "execution_count": 8,
   "metadata": {},
   "outputs": [],
   "source": [
    "## Reading the text of news article\n",
    "with open('SpaceX.txt', 'r') as myfile: \n",
    "    data=myfile.read().replace('\\n', ' ')"
   ]
  },
  {
   "cell_type": "code",
   "execution_count": 9,
   "metadata": {},
   "outputs": [],
   "source": [
    "## Splitting the text on \"., ! and ?\" to get sentences\n",
    "sentences = re.split('(?<=[.!?]) +', data)"
   ]
  },
  {
   "cell_type": "code",
   "execution_count": 10,
   "metadata": {},
   "outputs": [],
   "source": [
    "## Initializing\n",
    "sent_length = []  ## Stores number of words in a sentence\n",
    "word_length = []  ## Stores number of letters in a word\n",
    "\n",
    "for line in sentences:\n",
    "    words=line.split()  ## Splitting sentences on space to get words\n",
    "    sent_length += [len(words)]  ## Gives sentence length & stores in vector\n",
    "    for w in words:  ## Loop to count letters in each word\n",
    "        len_word = len(w)  ## Gives word length \n",
    "        count_pun = 0  ## Initialize punctuation count\n",
    "        for c in w: ## To count punctuations in w\n",
    "            if c in punctuation:  \n",
    "                count_pun += 1\n",
    "        len_word -= count_pun  ## Subtracting puntuation count from words\n",
    "        word_length += [len_word]  ## Stores length of words in a vector"
   ]
  },
  {
   "cell_type": "code",
   "execution_count": 11,
   "metadata": {},
   "outputs": [
    {
     "name": "stdout",
     "output_type": "stream",
     "text": [
      "[5, 28, 22, 15, 22, 21, 16, 35, 12, 25, 18, 14, 26, 9, 16, 10, 14, 20, 11, 16, 41, 24, 38, 18, 9, 19, 14, 11, 12, 22, 15, 16, 13, 26, 8, 28, 26, 13, 12, 20, 6, 19]\n",
      "[6, 3, 4, 2, 5, 3, 10, 6, 4, 4, 6, 3, 3, 10, 3, 7, 3, 4, 7, 2, 2, 1, 8, 9, 6, 2, 3, 7, 3, 6, 6, 6, 5, 4, 5, 6, 3, 12, 7, 6, 2, 11, 5, 3, 4, 4, 3, 5, 2, 3, 6, 4, 8, 11, 6, 6, 5, 4, 6, 7, 6, 3, 2, 2, 4, 7, 5, 6, 2, 7, 2, 5, 6, 2, 6, 10, 4, 8, 7, 3, 5, 4, 2, 7, 2, 2, 4, 4, 9, 5, 3, 6, 9, 2, 9, 2, 7, 5, 2, 5, 8, 2, 3, 8, 10, 5, 3, 6, 2, 5, 1, 7, 6, 2, 3, 3, 2, 2, 6, 2, 5, 2, 3, 5, 4, 3, 6, 5, 4, 6, 4, 4, 3, 6, 3, 5, 2, 3, 4, 4, 6, 2, 1, 5, 6, 6, 2, 3, 4, 9, 7, 6, 4, 4, 4, 4, 2, 2, 9, 4, 4, 6, 5, 6, 3, 7, 6, 7, 5, 3, 4, 8, 5, 5, 4, 6, 2, 1, 15, 4, 6, 4, 7, 2, 5, 2, 5, 3, 2, 3, 6, 6, 10, 6, 8, 2, 4, 7, 4, 2, 5, 4, 3, 4, 7, 3, 6, 10, 3, 6, 2, 6, 2, 1, 7, 5, 6, 7, 3, 4, 3, 8, 3, 4, 8, 5, 3, 4, 4, 9, 4, 4, 4, 3, 5, 7, 3, 8, 2, 4, 2, 1, 9, 8, 6, 1, 9, 3, 4, 2, 2, 3, 5, 2, 4, 3, 10, 3, 3, 4, 9, 5, 3, 6, 4, 3, 7, 7, 2, 5, 3, 6, 5, 3, 6, 6, 4, 5, 2, 5, 8, 5, 4, 8, 2, 3, 5, 2, 1, 5, 7, 2, 1, 9, 4, 4, 2, 8, 3, 3, 5, 4, 5, 6, 5, 6, 2, 6, 7, 2, 5, 3, 3, 4, 2, 8, 2, 5, 5, 7, 2, 1, 3, 4, 3, 2, 3, 10, 4, 5, 2, 4, 3, 3, 4, 5, 6, 3, 3, 2, 9, 4, 4, 2, 7, 2, 3, 3, 3, 2, 3, 9, 6, 5, 6, 4, 5, 2, 7, 3, 2, 6, 2, 5, 4, 1, 6, 7, 2, 7, 1, 4, 3, 7, 2, 1, 3, 8, 10, 9, 7, 5, 3, 7, 5, 10, 2, 2, 5, 4, 8, 2, 5, 2, 3, 6, 8, 7, 6, 1, 4, 4, 7, 3, 1, 7, 5, 7, 7, 2, 5, 2, 3, 6, 8, 4, 3, 6, 8, 10, 3, 7, 4, 3, 5, 4, 6, 4, 2, 6, 2, 3, 6, 6, 10, 6, 8, 2, 5, 4, 3, 6, 1, 6, 5, 3, 7, 3, 4, 3, 4, 4, 2, 8, 6, 4, 2, 4, 5, 7, 4, 1, 6, 10, 7, 3, 6, 3, 6, 10, 4, 5, 2, 6, 1, 8, 3, 6, 9, 4, 4, 8, 4, 2, 4, 2, 4, 3, 9, 6, 5, 6, 8, 4, 3, 8, 6, 1, 8, 3, 6, 7, 3, 3, 7, 8, 2, 4, 2, 7, 4, 2, 5, 4, 3, 4, 2, 8, 6, 6, 4, 5, 9, 4, 9, 7, 5, 4, 7, 4, 3, 6, 5, 2, 3, 3, 4, 8, 6, 2, 7, 4, 5, 7, 2, 5, 6, 1, 6, 5, 3, 4, 3, 3, 6, 4, 8, 3, 3, 7, 2, 3, 5, 6, 5, 2, 3, 4, 4, 3, 6, 5, 1, 6, 3, 6, 4, 4, 7, 4, 2, 7, 3, 2, 4, 3, 6, 2, 4, 3, 7, 4, 3, 5, 4, 8, 3, 4, 6, 4, 2, 1, 10, 2, 9, 4, 4, 2, 8, 1, 5, 8, 6, 7, 6, 3, 2, 3, 6, 6, 4, 5, 4, 3, 4, 4, 2, 7, 6, 2, 6, 2, 7, 5, 4, 4, 6, 3, 6, 6, 6, 3, 5, 6, 5, 2, 5, 1, 7, 4, 10, 6, 4, 6, 3, 3, 5, 5, 4, 5, 6, 2, 3, 5, 3, 10, 4, 2, 4, 2, 3, 4, 6, 4, 2, 3, 11, 9, 4, 2, 9, 2, 3, 3, 1, 5, 4, 4, 4, 6, 2, 5, 7, 4, 4, 1, 5, 4, 6, 3, 3, 5, 6, 2, 5, 2, 4, 5, 6, 3, 3, 5, 9, 2, 7, 2, 11, 5, 4, 9, 4, 6, 5, 3, 5, 9, 4, 2, 4, 4, 4, 2, 5, 3, 6, 3, 4, 6, 2, 5, 2, 5, 2, 6, 6, 5, 3, 6, 4, 4, 3, 4, 5, 2, 5, 3, 3, 4, 4, 6, 2, 3, 5, 2, 3]\n"
     ]
    }
   ],
   "source": [
    "print(sent_length)\n",
    "print(word_length)"
   ]
  },
  {
   "cell_type": "code",
   "execution_count": 12,
   "metadata": {},
   "outputs": [
    {
     "data": {
      "image/png": "[encoded data removed]",
      "text/plain": [
       "<Figure size 432x288 with 1 Axes>"
      ]
     },
     "metadata": {},
     "output_type": "display_data"
    }
   ],
   "source": [
    "plt.hist(sent_length, bins=12)\n",
    "plt.show()"
   ]
  },
  {
   "cell_type": "code",
   "execution_count": 13,
   "metadata": {
    "scrolled": true
   },
   "outputs": [
    {
     "data": {
      "image/png": "[encoded data removed]",
      "text/plain": [
       "<Figure size 432x288 with 1 Axes>"
      ]
     },
     "metadata": {},
     "output_type": "display_data"
    }
   ],
   "source": [
    "plt.hist(word_length, bins=12)\n",
    "plt.show()"
   ]
  }
 ],
 "metadata": {
  "kernelspec": {
   "display_name": "Python 3",
   "language": "python",
   "name": "python3"
  },
  "language_info": {
   "codemirror_mode": {
    "name": "ipython",
    "version": 3
   },
   "file_extension": ".py",
   "mimetype": "text/x-python",
   "name": "python",
   "nbconvert_exporter": "python",
   "pygments_lexer": "ipython3",
   "version": "3.6.5"
  }
 },
 "nbformat": 4,
 "nbformat_minor": 2
}
